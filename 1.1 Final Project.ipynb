{
 "cells": [
  {
   "cell_type": "code",
   "execution_count": 1,
   "id": "b4f6fb65-5598-4e28-9b6b-0d490a473580",
   "metadata": {},
   "outputs": [],
   "source": [
    "import pandas as pd\n",
    "import numpy as np\n",
    "import sqlite3"
   ]
  },
  {
   "cell_type": "code",
   "execution_count": 2,
   "id": "6be4d6e9-c0f6-4301-8549-ee6a8717d156",
   "metadata": {},
   "outputs": [],
   "source": [
    "# Подключаемся к БД\n",
    "conn = sqlite3.connect('shop_database.db')\n",
    "personal_data = pd.read_sql_query(\"SELECT * FROM personal_data\", conn)\n",
    "personal_data_coeffs = pd.read_sql_query(\"SELECT * FROM personal_data_coeffs\", conn)\n",
    "purchases = pd.read_sql_query(\"SELECT * FROM purchases\", conn)\n",
    "conn.close()\n"
   ]
  },
  {
   "cell_type": "code",
   "execution_count": 3,
   "id": "a7ee39cb-b33a-49d0-bcdb-65a5ec54351f",
   "metadata": {},
   "outputs": [],
   "source": [
    "# Загружаем восстановленные данные\n",
    "df_missing = pd.read_csv('personal_data.csv')\n"
   ]
  },
  {
   "cell_type": "code",
   "execution_count": 4,
   "id": "8e92d36d-4850-4295-98e6-64f21a054e6b",
   "metadata": {},
   "outputs": [
    {
     "data": {
      "text/html": [
       "<div>\n",
       "<style scoped>\n",
       "    .dataframe tbody tr th:only-of-type {\n",
       "        vertical-align: middle;\n",
       "    }\n",
       "\n",
       "    .dataframe tbody tr th {\n",
       "        vertical-align: top;\n",
       "    }\n",
       "\n",
       "    .dataframe thead th {\n",
       "        text-align: right;\n",
       "    }\n",
       "</style>\n",
       "<table border=\"1\" class=\"dataframe\">\n",
       "  <thead>\n",
       "    <tr style=\"text-align: right;\">\n",
       "      <th></th>\n",
       "      <th>id</th>\n",
       "      <th>age</th>\n",
       "      <th>education</th>\n",
       "      <th>city</th>\n",
       "      <th>country</th>\n",
       "    </tr>\n",
       "  </thead>\n",
       "  <tbody>\n",
       "    <tr>\n",
       "      <th>0</th>\n",
       "      <td>101492</td>\n",
       "      <td>32</td>\n",
       "      <td>среднее</td>\n",
       "      <td>1188</td>\n",
       "      <td>32</td>\n",
       "    </tr>\n",
       "    <tr>\n",
       "      <th>1</th>\n",
       "      <td>42690</td>\n",
       "      <td>20</td>\n",
       "      <td>высшее</td>\n",
       "      <td>1134</td>\n",
       "      <td>32</td>\n",
       "    </tr>\n",
       "    <tr>\n",
       "      <th>2</th>\n",
       "      <td>113001</td>\n",
       "      <td>27</td>\n",
       "      <td>среднее</td>\n",
       "      <td>1187</td>\n",
       "      <td>32</td>\n",
       "    </tr>\n",
       "    <tr>\n",
       "      <th>3</th>\n",
       "      <td>163654</td>\n",
       "      <td>49</td>\n",
       "      <td>высшее</td>\n",
       "      <td>1160</td>\n",
       "      <td>32</td>\n",
       "    </tr>\n",
       "    <tr>\n",
       "      <th>4</th>\n",
       "      <td>69523</td>\n",
       "      <td>44</td>\n",
       "      <td>среднее</td>\n",
       "      <td>1137</td>\n",
       "      <td>32</td>\n",
       "    </tr>\n",
       "  </tbody>\n",
       "</table>\n",
       "</div>"
      ],
      "text/plain": [
       "       id  age education  city  country\n",
       "0  101492   32   среднее  1188       32\n",
       "1   42690   20    высшее  1134       32\n",
       "2  113001   27   среднее  1187       32\n",
       "3  163654   49    высшее  1160       32\n",
       "4   69523   44   среднее  1137       32"
      ]
     },
     "execution_count": 4,
     "metadata": {},
     "output_type": "execute_result"
    }
   ],
   "source": [
    "# Первые строки таблицы\n",
    "df_missing.head()\n"
   ]
  },
  {
   "cell_type": "code",
   "execution_count": 5,
   "id": "b34c3b3f-9789-4380-9d2d-8aec1adbade0",
   "metadata": {},
   "outputs": [],
   "source": [
    "# Объединяем по id\n",
    "personal_data_full = personal_data.combine_first(df_missing.set_index('id')).reset_index()\n"
   ]
  },
  {
   "cell_type": "code",
   "execution_count": 6,
   "id": "031aaf49-7ad2-4c08-bdb8-9656ef141391",
   "metadata": {},
   "outputs": [],
   "source": [
    "# Объединяем по столбцу 'id'\n",
    "personal_full_with_coef = personal_data_full.merge(personal_data_coeffs, on='id', how='left')\n"
   ]
  },
  {
   "cell_type": "code",
   "execution_count": 7,
   "id": "b8f2c931-2c8f-4361-b041-6ab49a062b51",
   "metadata": {},
   "outputs": [],
   "source": [
    "# Объединяем по столбцу 'id'\n",
    "merged_df = personal_full_with_coef.merge(purchases, on='id', how='left')\n"
   ]
  },
  {
   "cell_type": "markdown",
   "id": "09819267-e391-48f1-bb3a-86bcb52cacf5",
   "metadata": {},
   "source": [
    "Для дальнейшего анализа объединили все таблицы: personal_data_full (данные о клиентах), personal_data_coeffs (коэффициенты клиентов) и purchases (информация о покупках). Это позволит нам работать с полной информацией о клиентах и их действиях. Объединенный датафрейм назвали merged_df."
   ]
  },
  {
   "cell_type": "code",
   "execution_count": 8,
   "id": "9fe1f355-f296-4661-a472-6f0baf59cb36",
   "metadata": {},
   "outputs": [
    {
     "data": {
      "text/plain": [
       "Index(['index', 'age', 'city', 'country', 'education', 'gender', 'id',\n",
       "       'lbt_coef', 'ac_coef', 'sm_coef', 'personal_coef', 'product', 'colour',\n",
       "       'cost', 'product_sex', 'base_sale', 'dt'],\n",
       "      dtype='object')"
      ]
     },
     "execution_count": 8,
     "metadata": {},
     "output_type": "execute_result"
    }
   ],
   "source": [
    "merged_df.columns"
   ]
  },
  {
   "cell_type": "markdown",
   "id": "62f7d95e-eb82-4fd1-8a7d-c91952a88d2e",
   "metadata": {},
   "source": [
    "Проверяем что данные объединились."
   ]
  },
  {
   "cell_type": "code",
   "execution_count": 9,
   "id": "3f2b75ef-a990-460d-a8de-741105d132eb",
   "metadata": {},
   "outputs": [
    {
     "data": {
      "text/html": [
       "<div>\n",
       "<style scoped>\n",
       "    .dataframe tbody tr th:only-of-type {\n",
       "        vertical-align: middle;\n",
       "    }\n",
       "\n",
       "    .dataframe tbody tr th {\n",
       "        vertical-align: top;\n",
       "    }\n",
       "\n",
       "    .dataframe thead th {\n",
       "        text-align: right;\n",
       "    }\n",
       "</style>\n",
       "<table border=\"1\" class=\"dataframe\">\n",
       "  <thead>\n",
       "    <tr style=\"text-align: right;\">\n",
       "      <th></th>\n",
       "      <th>index</th>\n",
       "      <th>age</th>\n",
       "      <th>city</th>\n",
       "      <th>country</th>\n",
       "      <th>education</th>\n",
       "      <th>gender</th>\n",
       "      <th>id</th>\n",
       "    </tr>\n",
       "  </thead>\n",
       "  <tbody>\n",
       "    <tr>\n",
       "      <th>0</th>\n",
       "      <td>0</td>\n",
       "      <td>36</td>\n",
       "      <td>1201</td>\n",
       "      <td>32</td>\n",
       "      <td>среднее</td>\n",
       "      <td>0.0</td>\n",
       "      <td>0.0</td>\n",
       "    </tr>\n",
       "    <tr>\n",
       "      <th>1</th>\n",
       "      <td>1</td>\n",
       "      <td>35</td>\n",
       "      <td>1134</td>\n",
       "      <td>32</td>\n",
       "      <td>среднее</td>\n",
       "      <td>0.0</td>\n",
       "      <td>4.0</td>\n",
       "    </tr>\n",
       "    <tr>\n",
       "      <th>2</th>\n",
       "      <td>2</td>\n",
       "      <td>52</td>\n",
       "      <td>1188</td>\n",
       "      <td>32</td>\n",
       "      <td>среднее</td>\n",
       "      <td>1.0</td>\n",
       "      <td>6.0</td>\n",
       "    </tr>\n",
       "    <tr>\n",
       "      <th>3</th>\n",
       "      <td>3</td>\n",
       "      <td>37</td>\n",
       "      <td>1198</td>\n",
       "      <td>32</td>\n",
       "      <td>среднее</td>\n",
       "      <td>0.0</td>\n",
       "      <td>7.0</td>\n",
       "    </tr>\n",
       "    <tr>\n",
       "      <th>4</th>\n",
       "      <td>4</td>\n",
       "      <td>48</td>\n",
       "      <td>1134</td>\n",
       "      <td>32</td>\n",
       "      <td>среднее</td>\n",
       "      <td>0.0</td>\n",
       "      <td>9.0</td>\n",
       "    </tr>\n",
       "  </tbody>\n",
       "</table>\n",
       "</div>"
      ],
      "text/plain": [
       "   index  age  city  country education  gender   id\n",
       "0      0   36  1201       32   среднее     0.0  0.0\n",
       "1      1   35  1134       32   среднее     0.0  4.0\n",
       "2      2   52  1188       32   среднее     1.0  6.0\n",
       "3      3   37  1198       32   среднее     0.0  7.0\n",
       "4      4   48  1134       32   среднее     0.0  9.0"
      ]
     },
     "execution_count": 9,
     "metadata": {},
     "output_type": "execute_result"
    }
   ],
   "source": [
    "personal_data_full.head()"
   ]
  },
  {
   "cell_type": "code",
   "execution_count": 10,
   "id": "3f602982-2a19-42d8-a923-fc62ebd88814",
   "metadata": {},
   "outputs": [],
   "source": [
    "# Фильтрация по стране с кодом 32\n",
    "personal_data = personal_data[personal_data['country'] == 32]\n"
   ]
  },
  {
   "cell_type": "code",
   "execution_count": 11,
   "id": "7f9e98de-de7c-4d82-9fa7-15fb6e3c429a",
   "metadata": {},
   "outputs": [
    {
     "data": {
      "text/plain": [
       "(88786, 6)"
      ]
     },
     "execution_count": 11,
     "metadata": {},
     "output_type": "execute_result"
    }
   ],
   "source": [
    "personal_data.shape\n"
   ]
  },
  {
   "cell_type": "markdown",
   "id": "969286db-8084-47a3-9f8f-33804d46c59f",
   "metadata": {},
   "source": [
    "В отфильтрованной таблице осталось 88 786 клиентов, проживающих в стране с кодом 32."
   ]
  },
  {
   "cell_type": "markdown",
   "id": "65e953a3-37a7-4615-97df-97752667ff99",
   "metadata": {},
   "source": [
    "Изминение данных о товарах и цветах\n",
    "\n",
    "В этом блоке выполняется приведение названий товаров к единому формату — нижнему регистру и удалению лишних пробелов. Также очищены данные о цветах: если в поле `colour` указано несколько цветов.\n"
   ]
  },
  {
   "cell_type": "code",
   "execution_count": 12,
   "id": "e194d622-9e10-42fa-ae9e-30ec7120faf5",
   "metadata": {},
   "outputs": [
    {
     "data": {
      "text/html": [
       "<div>\n",
       "<style scoped>\n",
       "    .dataframe tbody tr th:only-of-type {\n",
       "        vertical-align: middle;\n",
       "    }\n",
       "\n",
       "    .dataframe tbody tr th {\n",
       "        vertical-align: top;\n",
       "    }\n",
       "\n",
       "    .dataframe thead th {\n",
       "        text-align: right;\n",
       "    }\n",
       "</style>\n",
       "<table border=\"1\" class=\"dataframe\">\n",
       "  <thead>\n",
       "    <tr style=\"text-align: right;\">\n",
       "      <th></th>\n",
       "      <th>id</th>\n",
       "      <th>product</th>\n",
       "      <th>colour</th>\n",
       "      <th>cost</th>\n",
       "      <th>product_sex</th>\n",
       "      <th>base_sale</th>\n",
       "      <th>dt</th>\n",
       "    </tr>\n",
       "  </thead>\n",
       "  <tbody>\n",
       "    <tr>\n",
       "      <th>0</th>\n",
       "      <td>0</td>\n",
       "      <td>Велосипед горный женский Stern Mira 2.0 26\"</td>\n",
       "      <td>белый/синий</td>\n",
       "      <td>13599</td>\n",
       "      <td>0.0</td>\n",
       "      <td>1</td>\n",
       "      <td>7</td>\n",
       "    </tr>\n",
       "    <tr>\n",
       "      <th>1</th>\n",
       "      <td>0</td>\n",
       "      <td>Стол Outventure</td>\n",
       "      <td>зелёный</td>\n",
       "      <td>1499</td>\n",
       "      <td>NaN</td>\n",
       "      <td>0</td>\n",
       "      <td>37</td>\n",
       "    </tr>\n",
       "    <tr>\n",
       "      <th>2</th>\n",
       "      <td>0</td>\n",
       "      <td>Набор Outventure: стол + 4 стула</td>\n",
       "      <td>бежевый</td>\n",
       "      <td>4799</td>\n",
       "      <td>NaN</td>\n",
       "      <td>0</td>\n",
       "      <td>37</td>\n",
       "    </tr>\n",
       "    <tr>\n",
       "      <th>3</th>\n",
       "      <td>3</td>\n",
       "      <td>Бутсы мужские GSD Astro</td>\n",
       "      <td>белый</td>\n",
       "      <td>1599</td>\n",
       "      <td>1.0</td>\n",
       "      <td>0</td>\n",
       "      <td>13</td>\n",
       "    </tr>\n",
       "    <tr>\n",
       "      <th>4</th>\n",
       "      <td>3</td>\n",
       "      <td>Мяч футбольный PUMA TEAMFINAL 21.2 FIFA QUALIT...</td>\n",
       "      <td>мультицвет</td>\n",
       "      <td>7199</td>\n",
       "      <td>NaN</td>\n",
       "      <td>0</td>\n",
       "      <td>27</td>\n",
       "    </tr>\n",
       "  </tbody>\n",
       "</table>\n",
       "</div>"
      ],
      "text/plain": [
       "   id                                            product       colour   cost  \\\n",
       "0   0        Велосипед горный женский Stern Mira 2.0 26\"  белый/синий  13599   \n",
       "1   0                                    Стол Outventure      зелёный   1499   \n",
       "2   0                   Набор Outventure: стол + 4 стула      бежевый   4799   \n",
       "3   3                            Бутсы мужские GSD Astro        белый   1599   \n",
       "4   3  Мяч футбольный PUMA TEAMFINAL 21.2 FIFA QUALIT...   мультицвет   7199   \n",
       "\n",
       "   product_sex  base_sale  dt  \n",
       "0          0.0          1   7  \n",
       "1          NaN          0  37  \n",
       "2          NaN          0  37  \n",
       "3          1.0          0  13  \n",
       "4          NaN          0  27  "
      ]
     },
     "execution_count": 12,
     "metadata": {},
     "output_type": "execute_result"
    }
   ],
   "source": [
    "purchases.head()"
   ]
  },
  {
   "cell_type": "code",
   "execution_count": 13,
   "id": "9378557d-0008-42b7-8fd2-fd8b28624099",
   "metadata": {},
   "outputs": [],
   "source": [
    "# Изминение \"/\" на \",\" в строке colour \n",
    "purchases['colour'] = purchases['colour'].astype(str).str.replace('/', ', ').str.lower().str.strip()\n"
   ]
  },
  {
   "cell_type": "code",
   "execution_count": 14,
   "id": "872ae016-1bf2-46cb-86fd-f91f855eeccb",
   "metadata": {},
   "outputs": [],
   "source": [
    "# Приводим названия товаров к нижнему регистру и убираем лишние пробелы\n",
    "purchases['product'] = purchases['product'].astype(str).str.lower().str.strip()\n"
   ]
  },
  {
   "cell_type": "code",
   "execution_count": 15,
   "id": "6a85e712-bf09-4c40-b9b1-0b3410d486b4",
   "metadata": {},
   "outputs": [
    {
     "data": {
      "text/html": [
       "<div>\n",
       "<style scoped>\n",
       "    .dataframe tbody tr th:only-of-type {\n",
       "        vertical-align: middle;\n",
       "    }\n",
       "\n",
       "    .dataframe tbody tr th {\n",
       "        vertical-align: top;\n",
       "    }\n",
       "\n",
       "    .dataframe thead th {\n",
       "        text-align: right;\n",
       "    }\n",
       "</style>\n",
       "<table border=\"1\" class=\"dataframe\">\n",
       "  <thead>\n",
       "    <tr style=\"text-align: right;\">\n",
       "      <th></th>\n",
       "      <th>id</th>\n",
       "      <th>product</th>\n",
       "      <th>colour</th>\n",
       "      <th>cost</th>\n",
       "      <th>product_sex</th>\n",
       "      <th>base_sale</th>\n",
       "      <th>dt</th>\n",
       "    </tr>\n",
       "  </thead>\n",
       "  <tbody>\n",
       "    <tr>\n",
       "      <th>0</th>\n",
       "      <td>0</td>\n",
       "      <td>велосипед горный женский stern mira 2.0 26\"</td>\n",
       "      <td>белый, синий</td>\n",
       "      <td>13599</td>\n",
       "      <td>0.0</td>\n",
       "      <td>1</td>\n",
       "      <td>7</td>\n",
       "    </tr>\n",
       "    <tr>\n",
       "      <th>1</th>\n",
       "      <td>0</td>\n",
       "      <td>стол outventure</td>\n",
       "      <td>зелёный</td>\n",
       "      <td>1499</td>\n",
       "      <td>NaN</td>\n",
       "      <td>0</td>\n",
       "      <td>37</td>\n",
       "    </tr>\n",
       "    <tr>\n",
       "      <th>2</th>\n",
       "      <td>0</td>\n",
       "      <td>набор outventure: стол + 4 стула</td>\n",
       "      <td>бежевый</td>\n",
       "      <td>4799</td>\n",
       "      <td>NaN</td>\n",
       "      <td>0</td>\n",
       "      <td>37</td>\n",
       "    </tr>\n",
       "    <tr>\n",
       "      <th>3</th>\n",
       "      <td>3</td>\n",
       "      <td>бутсы мужские gsd astro</td>\n",
       "      <td>белый</td>\n",
       "      <td>1599</td>\n",
       "      <td>1.0</td>\n",
       "      <td>0</td>\n",
       "      <td>13</td>\n",
       "    </tr>\n",
       "    <tr>\n",
       "      <th>4</th>\n",
       "      <td>3</td>\n",
       "      <td>мяч футбольный puma teamfinal 21.2 fifa qualit...</td>\n",
       "      <td>мультицвет</td>\n",
       "      <td>7199</td>\n",
       "      <td>NaN</td>\n",
       "      <td>0</td>\n",
       "      <td>27</td>\n",
       "    </tr>\n",
       "  </tbody>\n",
       "</table>\n",
       "</div>"
      ],
      "text/plain": [
       "   id                                            product        colour   cost  \\\n",
       "0   0        велосипед горный женский stern mira 2.0 26\"  белый, синий  13599   \n",
       "1   0                                    стол outventure       зелёный   1499   \n",
       "2   0                   набор outventure: стол + 4 стула       бежевый   4799   \n",
       "3   3                            бутсы мужские gsd astro         белый   1599   \n",
       "4   3  мяч футбольный puma teamfinal 21.2 fifa qualit...    мультицвет   7199   \n",
       "\n",
       "   product_sex  base_sale  dt  \n",
       "0          0.0          1   7  \n",
       "1          NaN          0  37  \n",
       "2          NaN          0  37  \n",
       "3          1.0          0  13  \n",
       "4          NaN          0  27  "
      ]
     },
     "execution_count": 15,
     "metadata": {},
     "output_type": "execute_result"
    }
   ],
   "source": [
    "purchases.head()"
   ]
  },
  {
   "cell_type": "markdown",
   "id": "8f2748c2-32c5-4c59-add2-813651e31606",
   "metadata": {},
   "source": [
    "Восстановление пропущенных значений в поле gender (Бинарная классификация)\n",
    "\n",
    "В таблице df_missing отсутствует информация о поле gender. Мы обучим модель на тех данных, где gender присутствует (personal_data), и спрогнозируем пол для утерянных записей."
   ]
  },
  {
   "cell_type": "code",
   "execution_count": 16,
   "id": "7e483489-5831-431f-adc9-fd4b996282b8",
   "metadata": {},
   "outputs": [],
   "source": [
    "# Импорт необходимых библиотек\n",
    "from sklearn.model_selection import train_test_split\n",
    "from sklearn.ensemble import RandomForestClassifier\n",
    "from sklearn.metrics import classification_report"
   ]
  },
  {
   "cell_type": "code",
   "execution_count": 17,
   "id": "89d088c6-2990-49f7-b2e0-2f5ecacc294d",
   "metadata": {},
   "outputs": [],
   "source": [
    "# Копия исходных данных\n",
    "df_gender = personal_data.copy()\n",
    "\n",
    "# Преобразуем категориальные признаки в числовые\n",
    "df_gender['education'] = df_gender['education'].astype('category').cat.codes\n",
    "X = df_gender.drop(columns=['id', 'gender'])\n",
    "y = df_gender['gender']\n"
   ]
  },
  {
   "cell_type": "code",
   "execution_count": 18,
   "id": "1f065988-e8bf-4706-8041-953c9359aa2b",
   "metadata": {},
   "outputs": [
    {
     "name": "stdout",
     "output_type": "stream",
     "text": [
      "              precision    recall  f1-score   support\n",
      "\n",
      "           0       0.47      0.29      0.36     11311\n",
      "           1       0.59      0.76      0.67     15325\n",
      "\n",
      "    accuracy                           0.56     26636\n",
      "   macro avg       0.53      0.53      0.51     26636\n",
      "weighted avg       0.54      0.56      0.54     26636\n",
      "\n"
     ]
    }
   ],
   "source": [
    "# Разделим выборку\n",
    "X_train, X_test, y_train, y_test = train_test_split(X, y, test_size=0.3, random_state=42)\n",
    "\n",
    "# Обучим модель\n",
    "model_gender = RandomForestClassifier(random_state=42)\n",
    "model_gender.fit(X_train, y_train)\n",
    "\n",
    "# Предсказание и отчёт\n",
    "y_pred = model_gender.predict(X_test)\n",
    "print(classification_report(y_test, y_pred))"
   ]
  },
  {
   "cell_type": "code",
   "execution_count": 19,
   "id": "42d59632-b1ad-47fb-a666-66788f3a3d09",
   "metadata": {},
   "outputs": [],
   "source": [
    "# Преобразуем категориальные признаки в df_missing так же, как в обучающих данных\n",
    "df_missing_copy = df_missing.copy()\n",
    "df_missing_copy['education'] = df_missing_copy['education'].astype('category').cat.codes"
   ]
  },
  {
   "cell_type": "code",
   "execution_count": 20,
   "id": "f63fca1a-379d-48d6-88ed-82c22d47a139",
   "metadata": {},
   "outputs": [],
   "source": [
    "# Предсказание\n",
    "X_missing = df_missing_copy.drop(columns=['id'])\n",
    "predicted_gender = model_gender.predict(X_missing)"
   ]
  },
  {
   "cell_type": "code",
   "execution_count": 21,
   "id": "13f39209-2c19-4b14-b073-6e2a8aed1e73",
   "metadata": {},
   "outputs": [],
   "source": [
    "# Добавим предсказания в таблицу\n",
    "df_missing_copy['gender'] = predicted_gender"
   ]
  },
  {
   "cell_type": "code",
   "execution_count": 22,
   "id": "e5c649f0-ae41-4eb5-8b0e-949cb17952c1",
   "metadata": {},
   "outputs": [],
   "source": [
    "# Сохраняем полные данные с восстановленным полем gender\n",
    "df_restored = df_missing.copy()\n",
    "df_restored['gender'] = predicted_gender"
   ]
  },
  {
   "cell_type": "markdown",
   "id": "9e10f46b-f1d7-4dd0-9c5e-38274864c0ab",
   "metadata": {},
   "source": [
    "Для построения модели мы использовали следующие признаки:\n",
    "- возраст (`age`),\n",
    "- образование (`education`),\n",
    "- город проживания (`city`),\n",
    "- страна (`country`).\n",
    "\n",
    "Категориальный признак `education` был преобразован в числовой формат.\n",
    "\n",
    "В качестве модели был выбран **RandomForestClassifier**, который показал следующие результаты на тестовой выборке:\n",
    "- **Точность (accuracy)**: 0.56\n",
    "- **Precision**: 0.47 (класс 0), 0.59 (класс 1)\n",
    "- **Recall**: 0.29 (класс 0), 0.76 (класс 1)\n",
    "- **F1-score**: 0.36 (класс 0), 0.67 (класс 1)\n",
    "- \n",
    "После обучения модель была применена к данным `df_missing`, и в результате мы восстановили значения `gender` для 5 000 клиентов. Данные были сохранены в таблицу `df_restored`.\n",
    "\n",
    "Ниже представлена первая строка восстановленных данных:"
   ]
  },
  {
   "cell_type": "code",
   "execution_count": 23,
   "id": "caccba46-4926-4258-93c7-327c45de128f",
   "metadata": {},
   "outputs": [
    {
     "data": {
      "text/html": [
       "<div>\n",
       "<style scoped>\n",
       "    .dataframe tbody tr th:only-of-type {\n",
       "        vertical-align: middle;\n",
       "    }\n",
       "\n",
       "    .dataframe tbody tr th {\n",
       "        vertical-align: top;\n",
       "    }\n",
       "\n",
       "    .dataframe thead th {\n",
       "        text-align: right;\n",
       "    }\n",
       "</style>\n",
       "<table border=\"1\" class=\"dataframe\">\n",
       "  <thead>\n",
       "    <tr style=\"text-align: right;\">\n",
       "      <th></th>\n",
       "      <th>id</th>\n",
       "      <th>age</th>\n",
       "      <th>education</th>\n",
       "      <th>city</th>\n",
       "      <th>country</th>\n",
       "      <th>gender</th>\n",
       "    </tr>\n",
       "  </thead>\n",
       "  <tbody>\n",
       "    <tr>\n",
       "      <th>0</th>\n",
       "      <td>101492</td>\n",
       "      <td>32</td>\n",
       "      <td>среднее</td>\n",
       "      <td>1188</td>\n",
       "      <td>32</td>\n",
       "      <td>1</td>\n",
       "    </tr>\n",
       "    <tr>\n",
       "      <th>1</th>\n",
       "      <td>42690</td>\n",
       "      <td>20</td>\n",
       "      <td>высшее</td>\n",
       "      <td>1134</td>\n",
       "      <td>32</td>\n",
       "      <td>1</td>\n",
       "    </tr>\n",
       "    <tr>\n",
       "      <th>2</th>\n",
       "      <td>113001</td>\n",
       "      <td>27</td>\n",
       "      <td>среднее</td>\n",
       "      <td>1187</td>\n",
       "      <td>32</td>\n",
       "      <td>1</td>\n",
       "    </tr>\n",
       "    <tr>\n",
       "      <th>3</th>\n",
       "      <td>163654</td>\n",
       "      <td>49</td>\n",
       "      <td>высшее</td>\n",
       "      <td>1160</td>\n",
       "      <td>32</td>\n",
       "      <td>1</td>\n",
       "    </tr>\n",
       "    <tr>\n",
       "      <th>4</th>\n",
       "      <td>69523</td>\n",
       "      <td>44</td>\n",
       "      <td>среднее</td>\n",
       "      <td>1137</td>\n",
       "      <td>32</td>\n",
       "      <td>0</td>\n",
       "    </tr>\n",
       "  </tbody>\n",
       "</table>\n",
       "</div>"
      ],
      "text/plain": [
       "       id  age education  city  country  gender\n",
       "0  101492   32   среднее  1188       32       1\n",
       "1   42690   20    высшее  1134       32       1\n",
       "2  113001   27   среднее  1187       32       1\n",
       "3  163654   49    высшее  1160       32       1\n",
       "4   69523   44   среднее  1137       32       0"
      ]
     },
     "execution_count": 23,
     "metadata": {},
     "output_type": "execute_result"
    }
   ],
   "source": [
    "# Просмотр результата\n",
    "df_restored.head()"
   ]
  },
  {
   "cell_type": "markdown",
   "id": "92d5d939-7e6b-4ae8-a453-0cf2243f134f",
   "metadata": {},
   "source": [
    "Объединение данных:\n",
    "\n",
    "    - Объединены `personal_data` и восстановленные строки `df_restored`.\n",
    "    - Получен итоговый датафрейм `personal_data_full` с полем `gender` для всех клиентов."
   ]
  },
  {
   "cell_type": "code",
   "execution_count": 24,
   "id": "2b202e32-93a2-4db8-990a-22ed814856eb",
   "metadata": {},
   "outputs": [],
   "source": [
    "# Убедимся, что оба датафрейма имеют одинаковую структуру\n",
    "personal_data_full = pd.concat([personal_data, df_restored], ignore_index=True)\n"
   ]
  },
  {
   "cell_type": "markdown",
   "id": "a0b0e2bf-c2a3-4242-9748-f7961e21e903",
   "metadata": {},
   "source": [
    "### A/B-тестирование\n",
    "\n",
    "В этом этапе мы анализируем эффективность первой маркетинговой кампании, которая проводилась в период с 5 по 16 день. \n",
    "\n",
    "Для этого загружаем ID клиентов из двух групп:\n",
    "- **Тестовая группа** (positive): клиенты, получившие персональную скидку.\n",
    "- **Контрольная группа** (negative): клиенты со схожими характеристиками, но не получившие скидку.\n",
    "\n",
    "Данные ID содержатся в отдельных текстовых файлах, структура которых требует предварительной обработки строк."
   ]
  },
  {
   "cell_type": "code",
   "execution_count": 25,
   "id": "5ed6fb9c-a4e3-4618-b3f1-174c7352809c",
   "metadata": {},
   "outputs": [],
   "source": [
    "# Загрузка ID клиентов из файлов\n",
    "with open(\"ids_first_company_negative.txt\", encoding=\"utf-8\") as f:\n",
    "    line = f.readline()\n",
    "    ids_str = line.replace(\"Ids of negative AB people \", \"\")\n",
    "    negative_ids = pd.DataFrame({'id': list(map(int, ids_str.strip().split(\";\")))})\n",
    "\n",
    "with open(\"ids_first_company_positive.txt\", encoding=\"utf-8\") as f:\n",
    "    line = f.readline()\n",
    "    ids_str = line.replace(\"Ids of positive AB people \", \"\")\n",
    "    positive_ids = pd.DataFrame({'id': list(map(int, ids_str.strip().split(\",\")))})"
   ]
  },
  {
   "cell_type": "code",
   "execution_count": 26,
   "id": "523ce53e-2045-45ab-a184-89cd3b2b79be",
   "metadata": {},
   "outputs": [],
   "source": [
    "# Фильтрация пользователей по группам\n",
    "positive_group = purchases[purchases['id'].isin(positive_ids['id'])]\n",
    "negative_group = purchases[purchases['id'].isin(negative_ids['id'])]"
   ]
  },
  {
   "cell_type": "code",
   "execution_count": 27,
   "id": "31c64310-25ed-40af-8d82-e79b8739fda6",
   "metadata": {},
   "outputs": [],
   "source": [
    "# Кампания шла с 5-го по 16-й день (включительно)\n",
    "positive_group_campaign = positive_group[(positive_group['dt'] >= 5) & (positive_group['dt'] <= 16)]\n",
    "negative_group_campaign = negative_group[(negative_group['dt'] >= 5) & (negative_group['dt'] <= 16)]\n"
   ]
  },
  {
   "cell_type": "code",
   "execution_count": 28,
   "id": "6f0b8ae8-200a-4c0d-b1a1-cd36cb6cbd93",
   "metadata": {},
   "outputs": [],
   "source": [
    "# Подсчёт уникальных покупателей, сделавших покупки в рамках кампании\n",
    "positive_converted = positive_group_campaign['id'].nunique()\n",
    "negative_converted = negative_group_campaign['id'].nunique()\n"
   ]
  },
  {
   "cell_type": "code",
   "execution_count": 29,
   "id": "7eab0a6d-56ea-4a9e-8306-427dcd18441b",
   "metadata": {},
   "outputs": [],
   "source": [
    "# Общее число участников в каждой группе\n",
    "positive_total = positive_ids['id'].nunique()\n",
    "negative_total = negative_ids['id'].nunique()\n"
   ]
  },
  {
   "cell_type": "code",
   "execution_count": 30,
   "id": "157845c7-b5c9-47eb-abf0-810ad97ae3f6",
   "metadata": {},
   "outputs": [],
   "source": [
    "# Конверсия\n",
    "cr_positive = positive_converted / positive_total\n",
    "cr_negative = negative_converted / negative_total\n",
    "uplift = cr_positive - cr_negative\n"
   ]
  },
  {
   "cell_type": "code",
   "execution_count": 31,
   "id": "039fb908-2706-45d2-aae5-9682b91da647",
   "metadata": {},
   "outputs": [
    {
     "name": "stdout",
     "output_type": "stream",
     "text": [
      "Конверсия положительной группы: 0.9739\n",
      "Конверсия контрольной группы: 1.0000\n",
      "Uplift: -0.0261\n"
     ]
    }
   ],
   "source": [
    "# Вывод результатов\n",
    "print(f\"Конверсия положительной группы: {cr_positive:.4f}\")\n",
    "print(f\"Конверсия контрольной группы: {cr_negative:.4f}\")\n",
    "print(f\"Uplift: {uplift:.4f}\")"
   ]
  },
  {
   "cell_type": "markdown",
   "id": "269247a3-b85b-4319-b93a-5573ba2e3083",
   "metadata": {},
   "source": [
    "Мы провели анализ, сравнив конверсию среди клиентов, получивших персональную скидку, и контрольной группы, не получившей её.\n",
    "\n",
    "**Период кампании:** с 5 по 16 день (включительно).\n",
    "\n",
    "**Конверсия:**\n",
    "- **Положительная группа (получили скидку):** 97.39%\n",
    "- **Контрольная группа (не получили скидку):** 100%\n",
    "\n",
    "**Uplift:** -2.61 процентных пункта.\n"
   ]
  },
  {
   "cell_type": "markdown",
   "id": "5e5b9707-75c4-41e9-a7e0-d546652a48ec",
   "metadata": {},
   "source": [
    "#### Вывод:\n",
    "Несмотря на предоставленную персональную скидку, пользователи в экспериментальной группе покупали немного **реже**, чем в контрольной.  \n",
    "Это говорит о том, что **скидка не оказала положительного влияния на поведение клиентов**. Возможно, клиенты и так были готовы купить товар, и дополнительная скидка не была мотивирующим фактором.\n",
    "\n",
    "**Рекомендация:** отказаться от массовой персональной рассылки скидок, если её эффективность не превышает контрольную группу. Предложить альтернативные гипотезы или сегментировать аудиторию точнее."
   ]
  },
  {
   "cell_type": "markdown",
   "id": "a480ca6a-cf0b-4921-b8a1-f93a3b46032a",
   "metadata": {},
   "source": [
    "### Кластеризация клиентов:"
   ]
  },
  {
   "cell_type": "code",
   "execution_count": 32,
   "id": "8caff4cf-a213-4109-b6a0-a975a7a158fe",
   "metadata": {},
   "outputs": [],
   "source": [
    "# Импорт нужных библиотек\n",
    "from sklearn.preprocessing import StandardScaler\n",
    "from sklearn.cluster import KMeans\n",
    "import matplotlib.pyplot as plt\n",
    "import seaborn as sns"
   ]
  },
  {
   "cell_type": "code",
   "execution_count": 34,
   "id": "99e398e2-9726-4ed8-a2c0-00cf089e8c62",
   "metadata": {},
   "outputs": [],
   "source": [
    "# Группируем данные по клиенту\n",
    "client_data = merged_df.groupby('id').agg({\n",
    "    'age': 'mean',\n",
    "    'personal_coef': 'mean',\n",
    "    'cost': 'mean',\n",
    "    'base_sale': 'mean'\n",
    "}).reset_index()"
   ]
  },
  {
   "cell_type": "code",
   "execution_count": 35,
   "id": "960940bb-47ac-4025-a130-0f59f9e9cd94",
   "metadata": {},
   "outputs": [],
   "source": [
    "# Удалим строки с пропусками\n",
    "client_data = client_data.dropna()"
   ]
  },
  {
   "cell_type": "code",
   "execution_count": 36,
   "id": "ebe0966a-4d29-44a9-84f7-37b5d3253907",
   "metadata": {},
   "outputs": [],
   "source": [
    "# Масштабируем признаки\n",
    "scaler = StandardScaler()\n",
    "X_scaled = scaler.fit_transform(client_data[['age', 'personal_coef', 'cost', 'base_sale']])"
   ]
  },
  {
   "cell_type": "code",
   "execution_count": 37,
   "id": "a6b36b2b-7709-4e9d-a4ce-dbf345d35dbe",
   "metadata": {},
   "outputs": [],
   "source": [
    "# Подбор числа кластеров — обнуляем inertia\n",
    "inertia = []  \n",
    "cluster_range = range(1, 10)\n",
    "\n",
    "# Подбор числа кластеров (метод локтя)\n",
    "for k in cluster_range:\n",
    "    kmeans = KMeans(n_clusters=k, random_state=42, n_init=10)\n",
    "    kmeans.fit(X_scaled)\n",
    "    inertia.append(kmeans.inertia_)"
   ]
  },
  {
   "cell_type": "code",
   "execution_count": 38,
   "id": "0c15c06e-71ac-43dd-b14f-5f1e982a8143",
   "metadata": {},
   "outputs": [
    {
     "data": {
      "image/png": "[encoded data removed]",
      "text/plain": [
       "<Figure size 640x480 with 1 Axes>"
      ]
     },
     "metadata": {},
     "output_type": "display_data"
    }
   ],
   "source": [
    "# График\n",
    "plt.plot(cluster_range, inertia, marker='o')\n",
    "plt.xlabel('Количество кластеров')\n",
    "plt.ylabel('Inertia')\n",
    "plt.title('Метод локтя для выбора числа кластеров')\n",
    "plt.show()"
   ]
  },
  {
   "cell_type": "code",
   "execution_count": 39,
   "id": "09ca5de2-b960-43cb-abca-dd22aad3b96c",
   "metadata": {},
   "outputs": [],
   "source": [
    "# Обучаем модель кластеризации\n",
    "kmeans = KMeans(n_clusters=4, random_state=42, n_init=10)\n",
    "clusters = kmeans.fit_predict(X_scaled)\n"
   ]
  },
  {
   "cell_type": "code",
   "execution_count": 40,
   "id": "04a37bc1-6f05-4876-b6b7-3f1a4f31538b",
   "metadata": {},
   "outputs": [],
   "source": [
    "# Создаем DataFrame с id и номером кластера\n",
    "client_data['cluster'] = clusters\n"
   ]
  },
  {
   "cell_type": "code",
   "execution_count": 41,
   "id": "cca316f4-7c56-4a4e-965e-e2b4d2d53e95",
   "metadata": {},
   "outputs": [],
   "source": [
    "# Присоединяем информацию о кластере обратно к основной таблице\n",
    "merged_df = merged_df.merge(client_data[['id', 'cluster']], on='id', how='left')\n"
   ]
  },
  {
   "cell_type": "markdown",
   "id": "9c04ffc2-ce32-4ee8-8e7d-a588eecbe567",
   "metadata": {},
   "source": [
    "Для сегментации клиентов была выполнена кластеризация с использованием алгоритма KMeans:\n",
    "\n",
    "- Были выбраны признаки: `age`, `personal_coef`, `cost`, `base_sale`.\n",
    "- Данные агрегированы по клиенту и масштабированы с помощью `StandardScaler`.\n",
    "- С помощью метода локтя определено оптимальное число кластеров — **4**."
   ]
  },
  {
   "cell_type": "markdown",
   "id": "89f615ac-8f4c-42e7-91b9-42f30c947235",
   "metadata": {},
   "source": [
    "### Визуализация кластеров"
   ]
  },
  {
   "cell_type": "code",
   "execution_count": 42,
   "id": "f54437e3-844b-40e6-a5bb-79f159ccf5d4",
   "metadata": {},
   "outputs": [],
   "source": [
    "from sklearn.decomposition import PCA"
   ]
  },
  {
   "cell_type": "code",
   "execution_count": 43,
   "id": "d1026d28-669f-4942-a19a-ee081f336aeb",
   "metadata": {},
   "outputs": [],
   "source": [
    "# Уменьшим размерность до 2D для визуализации\n",
    "pca = PCA(n_components=2)\n",
    "components = pca.fit_transform(X_scaled)"
   ]
  },
  {
   "cell_type": "code",
   "execution_count": 44,
   "id": "2ef818ca-3138-4632-b1a1-213bbd9ed814",
   "metadata": {},
   "outputs": [],
   "source": [
    "# Создаем DataFrame для визуализации\n",
    "vis_df = pd.DataFrame(components, columns=['PC1', 'PC2'])\n",
    "vis_df['cluster'] = clusters\n"
   ]
  },
  {
   "cell_type": "code",
   "execution_count": 45,
   "id": "145e83cc-b4a0-471e-991f-cbec02da7bca",
   "metadata": {},
   "outputs": [
    {
     "data": {
      "image/png": "[encoded data removed]",
      "text/plain": [
       "<Figure size 1000x600 with 1 Axes>"
      ]
     },
     "metadata": {},
     "output_type": "display_data"
    }
   ],
   "source": [
    "# Визуализация\n",
    "plt.figure(figsize=(10, 6))\n",
    "sns.scatterplot(data=vis_df, x='PC1', y='PC2', hue='cluster', palette='Set2', s=50)\n",
    "plt.title('Кластеры клиентов (визуализация после PCA)')\n",
    "plt.xlabel('Главная компонента 1')\n",
    "plt.ylabel('Главная компонента 2')\n",
    "plt.legend(title='Кластер')\n",
    "plt.grid(True)\n",
    "plt.show()"
   ]
  },
  {
   "cell_type": "markdown",
   "id": "49f2d10b-a03f-4963-b29f-b945676e20ac",
   "metadata": {},
   "source": [
    "### Визуализация кластеров\n",
    "\n",
    "Для визуализации результатов кластеризации была применена методика понижения размерности — Principal Component Analysis (PCA), которая позволила отобразить многомерные данные в двумерном пространстве.\n",
    "\n",
    "На основе результатов кластеризации клиенты были распределены по четырём группам и представлены на графике в виде точек, окрашенных в разные цвета. Это помогло наглядно оценить различия между кластерами и выявить их особенности.\n"
   ]
  },
  {
   "cell_type": "markdown",
   "id": "f5763b41-74a7-4d4f-a96d-cc5dd3e96cc4",
   "metadata": {},
   "source": [
    "### Построения модели склонности клиента к покупке:"
   ]
  },
  {
   "cell_type": "code",
   "execution_count": 46,
   "id": "17a46b24-1ca8-4286-a148-854b7df4205e",
   "metadata": {},
   "outputs": [],
   "source": [
    "# Выбираем нужные признаки\n",
    "model_data = merged_df[['id', 'age', 'personal_coef', 'cost', 'base_sale']].copy()\n"
   ]
  },
  {
   "cell_type": "code",
   "execution_count": 47,
   "id": "4c9924b7-51ad-4dfd-a60b-6a353328bf4f",
   "metadata": {},
   "outputs": [],
   "source": [
    "# Удаляем строки с пропусками\n",
    "model_data = model_data.dropna()\n"
   ]
  },
  {
   "cell_type": "code",
   "execution_count": 48,
   "id": "9b982be6-878c-4e34-b9a6-b14484402550",
   "metadata": {},
   "outputs": [],
   "source": [
    "# Целевой признак — наличие покупки (1, если покупка была, 0 — если нет)\n",
    "# Предположим, что base_sale > 0 означает покупку\n",
    "model_data['target'] = model_data['base_sale'].apply(lambda x: 1 if x > 0 else 0)\n"
   ]
  },
  {
   "cell_type": "code",
   "execution_count": 49,
   "id": "5103e992-bdd0-4114-b6d2-cf8f239e826f",
   "metadata": {},
   "outputs": [],
   "source": [
    "# Удаляем ненужные признаки\n",
    "model_data = model_data.drop(columns=['base_sale'])\n"
   ]
  },
  {
   "cell_type": "code",
   "execution_count": 50,
   "id": "b86e5822-d3db-420e-aa8e-545ca6b3eb9f",
   "metadata": {},
   "outputs": [
    {
     "data": {
      "text/plain": [
       "(669956, 5)"
      ]
     },
     "execution_count": 50,
     "metadata": {},
     "output_type": "execute_result"
    }
   ],
   "source": [
    "# Проверим размер итогового набора\n",
    "model_data.shape\n"
   ]
  },
  {
   "cell_type": "code",
   "execution_count": 51,
   "id": "6fdd721d-3c78-4e3f-b43a-0d8f3d24bcd8",
   "metadata": {},
   "outputs": [
    {
     "data": {
      "text/plain": [
       "target\n",
       "0    430950\n",
       "1    239006\n",
       "Name: count, dtype: int64"
      ]
     },
     "execution_count": 51,
     "metadata": {},
     "output_type": "execute_result"
    }
   ],
   "source": [
    "# Посмотрим, сколько положительных и отрицательных примеров\n",
    "model_data['target'].value_counts()"
   ]
  },
  {
   "cell_type": "markdown",
   "id": "7afaa6a3-9546-459e-95fd-d497f860feaf",
   "metadata": {},
   "source": [
    "Обучение модели для предсказания склонности к покупке"
   ]
  },
  {
   "cell_type": "code",
   "execution_count": 52,
   "id": "07d878a7-9d7b-4f74-b4d0-21c62dad62ed",
   "metadata": {},
   "outputs": [],
   "source": [
    "# Импорт библеотек\n",
    "from sklearn.metrics import roc_auc_score\n"
   ]
  },
  {
   "cell_type": "code",
   "execution_count": 53,
   "id": "2e726d87-7006-4583-99c5-79566c66907c",
   "metadata": {},
   "outputs": [],
   "source": [
    "# Разделим на признаки и целевую переменную\n",
    "X = model_data.drop(columns=['target'])\n",
    "y = model_data['target']\n"
   ]
  },
  {
   "cell_type": "code",
   "execution_count": 54,
   "id": "be0b7a82-e670-4b04-bbcf-029691695847",
   "metadata": {},
   "outputs": [],
   "source": [
    "# Разделим на обучающую и тестовую выборки\n",
    "X_train, X_test, y_train, y_test = train_test_split(X, y, test_size=0.2, random_state=42)\n"
   ]
  },
  {
   "cell_type": "code",
   "execution_count": 55,
   "id": "1d73379d-0cc9-43b3-b2b2-899f00a5038f",
   "metadata": {},
   "outputs": [],
   "source": [
    "# Обучим модель случайного леса\n",
    "model = RandomForestClassifier(n_estimators=100, random_state=42)\n",
    "model.fit(X_train, y_train);\n"
   ]
  },
  {
   "cell_type": "code",
   "execution_count": 56,
   "id": "6abf0e62-0ece-41d3-b14c-5fa19399a8fb",
   "metadata": {},
   "outputs": [],
   "source": [
    "# Предсказания\n",
    "y_pred = model.predict(X_test)\n",
    "y_prob = model.predict_proba(X_test)[:, 1]\n"
   ]
  },
  {
   "cell_type": "code",
   "execution_count": 57,
   "id": "1c613f74-71ef-4925-8166-133e56a3e62e",
   "metadata": {},
   "outputs": [
    {
     "name": "stdout",
     "output_type": "stream",
     "text": [
      "              precision    recall  f1-score   support\n",
      "\n",
      "           0       0.79      0.83      0.81     86246\n",
      "           1       0.66      0.60      0.63     47746\n",
      "\n",
      "    accuracy                           0.75    133992\n",
      "   macro avg       0.73      0.72      0.72    133992\n",
      "weighted avg       0.75      0.75      0.75    133992\n",
      "\n",
      "ROC AUC: 0.7995601817350505\n"
     ]
    }
   ],
   "source": [
    "# Оценка модели\n",
    "print(classification_report(y_test, y_pred))\n",
    "print(\"ROC AUC:\", roc_auc_score(y_test, y_prob))"
   ]
  },
  {
   "cell_type": "markdown",
   "id": "e56b66e9-f4de-4ba0-9184-0997c755739b",
   "metadata": {},
   "source": [
    "Для оценки модели использовались стандартные метрики качества:\n",
    "\n",
    "- **Accuracy (точность):**  \n",
    "      75% — модель правильно классифицирует 3 из 4 случаев.\n",
    "\n",
    "- **Recall (полнота):**  \n",
    "  - **Класс 0 (не совершили покупку):** 83% — большинство \"некупивших\" клиентов определены верно.  \n",
    "  - **Класс 1 (совершили покупку):** 60% — около 60% \"купивших\" клиентов распознаны верно.\n",
    "\n",
    "- **F1-мера:**  \n",
    "  - **Класс 0:** 0.81  \n",
    "  - **Класс 1:** 0.63 — заметно ниже, что указывает на трудности модели в определении клиентов, совершивших покупку.\n",
    "\n",
    "- **ROC AUC:**  \n",
    "      **0.80** — модель хорошо различает классы и обладает высоким дискриминирующим потенциалом.\n",
    "\n",
    "### Вывод:\n",
    "Модель работает неплохо, особенно в выявлении клиентов, **не совершивших покупку**. Однако есть пространство для **улучшения в распознавании положительного класса (покупка)**.\n"
   ]
  },
  {
   "cell_type": "markdown",
   "id": "1faa66b4-bb4b-418d-91f5-686b69b086b5",
   "metadata": {},
   "source": [
    "### Визуализация"
   ]
  },
  {
   "cell_type": "code",
   "execution_count": 58,
   "id": "562c51ba-2e63-4e6d-a89a-3d17cbb5b590",
   "metadata": {},
   "outputs": [],
   "source": [
    "# Получаем важности признаков\n",
    "importances = model.feature_importances_\n"
   ]
  },
  {
   "cell_type": "code",
   "execution_count": 59,
   "id": "a7da8ee8-c27e-4623-acc7-ad1726a01c62",
   "metadata": {},
   "outputs": [],
   "source": [
    "# Названия признаков \n",
    "feature_names = X_train.columns\n"
   ]
  },
  {
   "cell_type": "code",
   "execution_count": 60,
   "id": "7f6b0785-1210-4680-875e-bfde4eb3cabc",
   "metadata": {},
   "outputs": [],
   "source": [
    "# Создаем DataFrame с важностями\n",
    "feature_importance_df = pd.DataFrame({\n",
    "    'Feature': feature_names,\n",
    "    'Importance': importances\n",
    "}).sort_values(by='Importance', ascending=True)\n"
   ]
  },
  {
   "cell_type": "code",
   "execution_count": 61,
   "id": "615359bf-85af-4354-b15e-95af73cf28f5",
   "metadata": {
    "scrolled": true
   },
   "outputs": [
    {
     "data": {
      "image/png": "[encoded data removed]",
      "text/plain": [
       "<Figure size 1000x600 with 1 Axes>"
      ]
     },
     "metadata": {},
     "output_type": "display_data"
    }
   ],
   "source": [
    "# Визуализация\n",
    "plt.figure(figsize=(10, 6))\n",
    "sns.barplot(\n",
    "    x='Importance',\n",
    "    y='Feature',\n",
    "    hue='Feature',\n",
    "    data=feature_importance_df,\n",
    "    palette='viridis',\n",
    "    legend=False\n",
    ")\n",
    "plt.title('Важность признаков (Random Forest)', fontsize=14)\n",
    "plt.xlabel('Важность')\n",
    "plt.ylabel('Признак')\n",
    "plt.grid(True, axis='x', linestyle='--', alpha=0.5)\n",
    "plt.tight_layout()\n",
    "plt.show()"
   ]
  },
  {
   "cell_type": "code",
   "execution_count": null,
   "id": "ed416bf9-3c85-46f0-a16b-9c7618a2f291",
   "metadata": {},
   "outputs": [],
   "source": []
  }
 ],
 "metadata": {
  "kernelspec": {
   "display_name": "Python 3 (ipykernel)",
   "language": "python",
   "name": "python3"
  },
  "language_info": {
   "codemirror_mode": {
    "name": "ipython",
    "version": 3
   },
   "file_extension": ".py",
   "mimetype": "text/x-python",
   "name": "python",
   "nbconvert_exporter": "python",
   "pygments_lexer": "ipython3",
   "version": "3.12.7"
  }
 },
 "nbformat": 4,
 "nbformat_minor": 5
}
